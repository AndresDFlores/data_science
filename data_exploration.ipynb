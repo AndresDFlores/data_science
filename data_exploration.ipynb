{
 "cells": [
  {
   "cell_type": "code",
   "execution_count": 130,
   "id": "8edd8cea",
   "metadata": {},
   "outputs": [],
   "source": [
    "import pandas as pd\n",
    "import numpy as np"
   ]
  },
  {
   "cell_type": "code",
   "execution_count": 131,
   "id": "8abba906",
   "metadata": {},
   "outputs": [],
   "source": [
    "#  read the data into Python from the indicated csv\n",
    "df = pd.read_csv(r'Data-Science-Projects-with-Python-master\\Data\\default_of_credit_card_clients__courseware_version_1_21_19.csv')"
   ]
  },
  {
   "cell_type": "code",
   "execution_count": 132,
   "id": "d07fdcb4",
   "metadata": {},
   "outputs": [
    {
     "data": {
      "text/plain": [
       "Index(['ID', 'LIMIT_BAL', 'SEX', 'EDUCATION', 'MARRIAGE', 'AGE', 'PAY_1',\n",
       "       'PAY_2', 'PAY_3', 'PAY_4', 'PAY_5', 'PAY_6', 'BILL_AMT1', 'BILL_AMT2',\n",
       "       'BILL_AMT3', 'BILL_AMT4', 'BILL_AMT5', 'BILL_AMT6', 'PAY_AMT1',\n",
       "       'PAY_AMT2', 'PAY_AMT3', 'PAY_AMT4', 'PAY_AMT5', 'PAY_AMT6',\n",
       "       'default payment next month'],\n",
       "      dtype='object')"
      ]
     },
     "execution_count": 132,
     "metadata": {},
     "output_type": "execute_result"
    }
   ],
   "source": [
    "#  list the df column names\n",
    "df.columns"
   ]
  },
  {
   "cell_type": "code",
   "execution_count": 133,
   "id": "962382e6",
   "metadata": {},
   "outputs": [
    {
     "data": {
      "text/html": [
       "<div>\n",
       "<style scoped>\n",
       "    .dataframe tbody tr th:only-of-type {\n",
       "        vertical-align: middle;\n",
       "    }\n",
       "\n",
       "    .dataframe tbody tr th {\n",
       "        vertical-align: top;\n",
       "    }\n",
       "\n",
       "    .dataframe thead th {\n",
       "        text-align: right;\n",
       "    }\n",
       "</style>\n",
       "<table border=\"1\" class=\"dataframe\">\n",
       "  <thead>\n",
       "    <tr style=\"text-align: right;\">\n",
       "      <th></th>\n",
       "      <th>ID</th>\n",
       "      <th>LIMIT_BAL</th>\n",
       "      <th>SEX</th>\n",
       "      <th>EDUCATION</th>\n",
       "      <th>MARRIAGE</th>\n",
       "      <th>AGE</th>\n",
       "      <th>PAY_1</th>\n",
       "      <th>PAY_2</th>\n",
       "      <th>PAY_3</th>\n",
       "      <th>PAY_4</th>\n",
       "      <th>...</th>\n",
       "      <th>BILL_AMT4</th>\n",
       "      <th>BILL_AMT5</th>\n",
       "      <th>BILL_AMT6</th>\n",
       "      <th>PAY_AMT1</th>\n",
       "      <th>PAY_AMT2</th>\n",
       "      <th>PAY_AMT3</th>\n",
       "      <th>PAY_AMT4</th>\n",
       "      <th>PAY_AMT5</th>\n",
       "      <th>PAY_AMT6</th>\n",
       "      <th>default payment next month</th>\n",
       "    </tr>\n",
       "  </thead>\n",
       "  <tbody>\n",
       "    <tr>\n",
       "      <th>0</th>\n",
       "      <td>798fc410-45c1</td>\n",
       "      <td>20000</td>\n",
       "      <td>2</td>\n",
       "      <td>2</td>\n",
       "      <td>1</td>\n",
       "      <td>24</td>\n",
       "      <td>2.0</td>\n",
       "      <td>2</td>\n",
       "      <td>-1</td>\n",
       "      <td>-1</td>\n",
       "      <td>...</td>\n",
       "      <td>0</td>\n",
       "      <td>0</td>\n",
       "      <td>0</td>\n",
       "      <td>0</td>\n",
       "      <td>689</td>\n",
       "      <td>0</td>\n",
       "      <td>0</td>\n",
       "      <td>0</td>\n",
       "      <td>0</td>\n",
       "      <td>1</td>\n",
       "    </tr>\n",
       "    <tr>\n",
       "      <th>1</th>\n",
       "      <td>8a8c8f3b-8eb4</td>\n",
       "      <td>120000</td>\n",
       "      <td>2</td>\n",
       "      <td>2</td>\n",
       "      <td>2</td>\n",
       "      <td>26</td>\n",
       "      <td>-1.0</td>\n",
       "      <td>2</td>\n",
       "      <td>0</td>\n",
       "      <td>0</td>\n",
       "      <td>...</td>\n",
       "      <td>3272</td>\n",
       "      <td>3455</td>\n",
       "      <td>3261</td>\n",
       "      <td>0</td>\n",
       "      <td>1000</td>\n",
       "      <td>1000</td>\n",
       "      <td>1000</td>\n",
       "      <td>0</td>\n",
       "      <td>2000</td>\n",
       "      <td>1</td>\n",
       "    </tr>\n",
       "    <tr>\n",
       "      <th>2</th>\n",
       "      <td>85698822-43f5</td>\n",
       "      <td>90000</td>\n",
       "      <td>2</td>\n",
       "      <td>2</td>\n",
       "      <td>2</td>\n",
       "      <td>34</td>\n",
       "      <td>0.0</td>\n",
       "      <td>0</td>\n",
       "      <td>0</td>\n",
       "      <td>0</td>\n",
       "      <td>...</td>\n",
       "      <td>14331</td>\n",
       "      <td>14948</td>\n",
       "      <td>15549</td>\n",
       "      <td>1518</td>\n",
       "      <td>1500</td>\n",
       "      <td>1000</td>\n",
       "      <td>1000</td>\n",
       "      <td>1000</td>\n",
       "      <td>5000</td>\n",
       "      <td>0</td>\n",
       "    </tr>\n",
       "    <tr>\n",
       "      <th>3</th>\n",
       "      <td>0737c11b-be42</td>\n",
       "      <td>50000</td>\n",
       "      <td>2</td>\n",
       "      <td>2</td>\n",
       "      <td>1</td>\n",
       "      <td>37</td>\n",
       "      <td>0.0</td>\n",
       "      <td>0</td>\n",
       "      <td>0</td>\n",
       "      <td>0</td>\n",
       "      <td>...</td>\n",
       "      <td>28314</td>\n",
       "      <td>28959</td>\n",
       "      <td>29547</td>\n",
       "      <td>2000</td>\n",
       "      <td>2019</td>\n",
       "      <td>1200</td>\n",
       "      <td>1100</td>\n",
       "      <td>1069</td>\n",
       "      <td>1000</td>\n",
       "      <td>0</td>\n",
       "    </tr>\n",
       "    <tr>\n",
       "      <th>4</th>\n",
       "      <td>3b7f77cc-dbc0</td>\n",
       "      <td>50000</td>\n",
       "      <td>1</td>\n",
       "      <td>2</td>\n",
       "      <td>1</td>\n",
       "      <td>57</td>\n",
       "      <td>-1.0</td>\n",
       "      <td>0</td>\n",
       "      <td>-1</td>\n",
       "      <td>0</td>\n",
       "      <td>...</td>\n",
       "      <td>20940</td>\n",
       "      <td>19146</td>\n",
       "      <td>19131</td>\n",
       "      <td>2000</td>\n",
       "      <td>36681</td>\n",
       "      <td>10000</td>\n",
       "      <td>9000</td>\n",
       "      <td>689</td>\n",
       "      <td>679</td>\n",
       "      <td>0</td>\n",
       "    </tr>\n",
       "  </tbody>\n",
       "</table>\n",
       "<p>5 rows × 25 columns</p>\n",
       "</div>"
      ],
      "text/plain": [
       "              ID  LIMIT_BAL  SEX  EDUCATION  MARRIAGE  AGE  PAY_1  PAY_2  \\\n",
       "0  798fc410-45c1      20000    2          2         1   24    2.0      2   \n",
       "1  8a8c8f3b-8eb4     120000    2          2         2   26   -1.0      2   \n",
       "2  85698822-43f5      90000    2          2         2   34    0.0      0   \n",
       "3  0737c11b-be42      50000    2          2         1   37    0.0      0   \n",
       "4  3b7f77cc-dbc0      50000    1          2         1   57   -1.0      0   \n",
       "\n",
       "   PAY_3  PAY_4  ...  BILL_AMT4  BILL_AMT5  BILL_AMT6  PAY_AMT1  PAY_AMT2  \\\n",
       "0     -1     -1  ...          0          0          0         0       689   \n",
       "1      0      0  ...       3272       3455       3261         0      1000   \n",
       "2      0      0  ...      14331      14948      15549      1518      1500   \n",
       "3      0      0  ...      28314      28959      29547      2000      2019   \n",
       "4     -1      0  ...      20940      19146      19131      2000     36681   \n",
       "\n",
       "   PAY_AMT3  PAY_AMT4  PAY_AMT5  PAY_AMT6  default payment next month  \n",
       "0         0         0         0         0                           1  \n",
       "1      1000      1000         0      2000                           1  \n",
       "2      1000      1000      1000      5000                           0  \n",
       "3      1200      1100      1069      1000                           0  \n",
       "4     10000      9000       689       679                           0  \n",
       "\n",
       "[5 rows x 25 columns]"
      ]
     },
     "execution_count": 133,
     "metadata": {},
     "output_type": "execute_result"
    }
   ],
   "source": [
    "#  show the first 5 (default) records in df\n",
    "df.head()"
   ]
  },
  {
   "cell_type": "code",
   "execution_count": 134,
   "id": "f9706200",
   "metadata": {},
   "outputs": [
    {
     "data": {
      "text/html": [
       "<div>\n",
       "<style scoped>\n",
       "    .dataframe tbody tr th:only-of-type {\n",
       "        vertical-align: middle;\n",
       "    }\n",
       "\n",
       "    .dataframe tbody tr th {\n",
       "        vertical-align: top;\n",
       "    }\n",
       "\n",
       "    .dataframe thead th {\n",
       "        text-align: right;\n",
       "    }\n",
       "</style>\n",
       "<table border=\"1\" class=\"dataframe\">\n",
       "  <thead>\n",
       "    <tr style=\"text-align: right;\">\n",
       "      <th></th>\n",
       "      <th>ID</th>\n",
       "      <th>LIMIT_BAL</th>\n",
       "      <th>SEX</th>\n",
       "      <th>EDUCATION</th>\n",
       "      <th>MARRIAGE</th>\n",
       "      <th>AGE</th>\n",
       "      <th>PAY_1</th>\n",
       "      <th>PAY_2</th>\n",
       "      <th>PAY_3</th>\n",
       "      <th>PAY_4</th>\n",
       "      <th>...</th>\n",
       "      <th>BILL_AMT4</th>\n",
       "      <th>BILL_AMT5</th>\n",
       "      <th>BILL_AMT6</th>\n",
       "      <th>PAY_AMT1</th>\n",
       "      <th>PAY_AMT2</th>\n",
       "      <th>PAY_AMT3</th>\n",
       "      <th>PAY_AMT4</th>\n",
       "      <th>PAY_AMT5</th>\n",
       "      <th>PAY_AMT6</th>\n",
       "      <th>default payment next month</th>\n",
       "    </tr>\n",
       "  </thead>\n",
       "  <tbody>\n",
       "    <tr>\n",
       "      <th>0</th>\n",
       "      <td>798fc410-45c1</td>\n",
       "      <td>20000</td>\n",
       "      <td>2</td>\n",
       "      <td>2</td>\n",
       "      <td>1</td>\n",
       "      <td>24</td>\n",
       "      <td>2.0</td>\n",
       "      <td>2</td>\n",
       "      <td>-1</td>\n",
       "      <td>-1</td>\n",
       "      <td>...</td>\n",
       "      <td>0</td>\n",
       "      <td>0</td>\n",
       "      <td>0</td>\n",
       "      <td>0</td>\n",
       "      <td>689</td>\n",
       "      <td>0</td>\n",
       "      <td>0</td>\n",
       "      <td>0</td>\n",
       "      <td>0</td>\n",
       "      <td>1</td>\n",
       "    </tr>\n",
       "    <tr>\n",
       "      <th>1</th>\n",
       "      <td>8a8c8f3b-8eb4</td>\n",
       "      <td>120000</td>\n",
       "      <td>2</td>\n",
       "      <td>2</td>\n",
       "      <td>2</td>\n",
       "      <td>26</td>\n",
       "      <td>-1.0</td>\n",
       "      <td>2</td>\n",
       "      <td>0</td>\n",
       "      <td>0</td>\n",
       "      <td>...</td>\n",
       "      <td>3272</td>\n",
       "      <td>3455</td>\n",
       "      <td>3261</td>\n",
       "      <td>0</td>\n",
       "      <td>1000</td>\n",
       "      <td>1000</td>\n",
       "      <td>1000</td>\n",
       "      <td>0</td>\n",
       "      <td>2000</td>\n",
       "      <td>1</td>\n",
       "    </tr>\n",
       "    <tr>\n",
       "      <th>2</th>\n",
       "      <td>85698822-43f5</td>\n",
       "      <td>90000</td>\n",
       "      <td>2</td>\n",
       "      <td>2</td>\n",
       "      <td>2</td>\n",
       "      <td>34</td>\n",
       "      <td>0.0</td>\n",
       "      <td>0</td>\n",
       "      <td>0</td>\n",
       "      <td>0</td>\n",
       "      <td>...</td>\n",
       "      <td>14331</td>\n",
       "      <td>14948</td>\n",
       "      <td>15549</td>\n",
       "      <td>1518</td>\n",
       "      <td>1500</td>\n",
       "      <td>1000</td>\n",
       "      <td>1000</td>\n",
       "      <td>1000</td>\n",
       "      <td>5000</td>\n",
       "      <td>0</td>\n",
       "    </tr>\n",
       "    <tr>\n",
       "      <th>3</th>\n",
       "      <td>0737c11b-be42</td>\n",
       "      <td>50000</td>\n",
       "      <td>2</td>\n",
       "      <td>2</td>\n",
       "      <td>1</td>\n",
       "      <td>37</td>\n",
       "      <td>0.0</td>\n",
       "      <td>0</td>\n",
       "      <td>0</td>\n",
       "      <td>0</td>\n",
       "      <td>...</td>\n",
       "      <td>28314</td>\n",
       "      <td>28959</td>\n",
       "      <td>29547</td>\n",
       "      <td>2000</td>\n",
       "      <td>2019</td>\n",
       "      <td>1200</td>\n",
       "      <td>1100</td>\n",
       "      <td>1069</td>\n",
       "      <td>1000</td>\n",
       "      <td>0</td>\n",
       "    </tr>\n",
       "    <tr>\n",
       "      <th>4</th>\n",
       "      <td>3b7f77cc-dbc0</td>\n",
       "      <td>50000</td>\n",
       "      <td>1</td>\n",
       "      <td>2</td>\n",
       "      <td>1</td>\n",
       "      <td>57</td>\n",
       "      <td>-1.0</td>\n",
       "      <td>0</td>\n",
       "      <td>-1</td>\n",
       "      <td>0</td>\n",
       "      <td>...</td>\n",
       "      <td>20940</td>\n",
       "      <td>19146</td>\n",
       "      <td>19131</td>\n",
       "      <td>2000</td>\n",
       "      <td>36681</td>\n",
       "      <td>10000</td>\n",
       "      <td>9000</td>\n",
       "      <td>689</td>\n",
       "      <td>679</td>\n",
       "      <td>0</td>\n",
       "    </tr>\n",
       "    <tr>\n",
       "      <th>5</th>\n",
       "      <td>ceae2946-47e4</td>\n",
       "      <td>50000</td>\n",
       "      <td>1</td>\n",
       "      <td>1</td>\n",
       "      <td>2</td>\n",
       "      <td>37</td>\n",
       "      <td>0.0</td>\n",
       "      <td>0</td>\n",
       "      <td>0</td>\n",
       "      <td>0</td>\n",
       "      <td>...</td>\n",
       "      <td>19394</td>\n",
       "      <td>19619</td>\n",
       "      <td>20024</td>\n",
       "      <td>2500</td>\n",
       "      <td>1815</td>\n",
       "      <td>657</td>\n",
       "      <td>1000</td>\n",
       "      <td>1000</td>\n",
       "      <td>800</td>\n",
       "      <td>0</td>\n",
       "    </tr>\n",
       "    <tr>\n",
       "      <th>6</th>\n",
       "      <td>d3b8ce26-9c89</td>\n",
       "      <td>500000</td>\n",
       "      <td>1</td>\n",
       "      <td>1</td>\n",
       "      <td>2</td>\n",
       "      <td>29</td>\n",
       "      <td>0.0</td>\n",
       "      <td>0</td>\n",
       "      <td>0</td>\n",
       "      <td>0</td>\n",
       "      <td>...</td>\n",
       "      <td>542653</td>\n",
       "      <td>483003</td>\n",
       "      <td>473944</td>\n",
       "      <td>55000</td>\n",
       "      <td>40000</td>\n",
       "      <td>38000</td>\n",
       "      <td>20239</td>\n",
       "      <td>13750</td>\n",
       "      <td>13770</td>\n",
       "      <td>0</td>\n",
       "    </tr>\n",
       "    <tr>\n",
       "      <th>7</th>\n",
       "      <td>d6e1911b-54d0</td>\n",
       "      <td>100000</td>\n",
       "      <td>2</td>\n",
       "      <td>2</td>\n",
       "      <td>2</td>\n",
       "      <td>23</td>\n",
       "      <td>0.0</td>\n",
       "      <td>-1</td>\n",
       "      <td>-1</td>\n",
       "      <td>0</td>\n",
       "      <td>...</td>\n",
       "      <td>221</td>\n",
       "      <td>-159</td>\n",
       "      <td>567</td>\n",
       "      <td>380</td>\n",
       "      <td>601</td>\n",
       "      <td>0</td>\n",
       "      <td>581</td>\n",
       "      <td>1687</td>\n",
       "      <td>1542</td>\n",
       "      <td>0</td>\n",
       "    </tr>\n",
       "    <tr>\n",
       "      <th>8</th>\n",
       "      <td>8421d3b3-2b54</td>\n",
       "      <td>140000</td>\n",
       "      <td>2</td>\n",
       "      <td>3</td>\n",
       "      <td>1</td>\n",
       "      <td>28</td>\n",
       "      <td>0.0</td>\n",
       "      <td>0</td>\n",
       "      <td>2</td>\n",
       "      <td>0</td>\n",
       "      <td>...</td>\n",
       "      <td>12211</td>\n",
       "      <td>11793</td>\n",
       "      <td>3719</td>\n",
       "      <td>3329</td>\n",
       "      <td>0</td>\n",
       "      <td>432</td>\n",
       "      <td>1000</td>\n",
       "      <td>1000</td>\n",
       "      <td>1000</td>\n",
       "      <td>0</td>\n",
       "    </tr>\n",
       "    <tr>\n",
       "      <th>9</th>\n",
       "      <td>62a2fd79-cd90</td>\n",
       "      <td>20000</td>\n",
       "      <td>1</td>\n",
       "      <td>3</td>\n",
       "      <td>2</td>\n",
       "      <td>35</td>\n",
       "      <td>-2.0</td>\n",
       "      <td>-2</td>\n",
       "      <td>-2</td>\n",
       "      <td>-2</td>\n",
       "      <td>...</td>\n",
       "      <td>0</td>\n",
       "      <td>13007</td>\n",
       "      <td>13912</td>\n",
       "      <td>0</td>\n",
       "      <td>0</td>\n",
       "      <td>0</td>\n",
       "      <td>13007</td>\n",
       "      <td>1122</td>\n",
       "      <td>0</td>\n",
       "      <td>0</td>\n",
       "    </tr>\n",
       "  </tbody>\n",
       "</table>\n",
       "<p>10 rows × 25 columns</p>\n",
       "</div>"
      ],
      "text/plain": [
       "              ID  LIMIT_BAL  SEX  EDUCATION  MARRIAGE  AGE  PAY_1  PAY_2  \\\n",
       "0  798fc410-45c1      20000    2          2         1   24    2.0      2   \n",
       "1  8a8c8f3b-8eb4     120000    2          2         2   26   -1.0      2   \n",
       "2  85698822-43f5      90000    2          2         2   34    0.0      0   \n",
       "3  0737c11b-be42      50000    2          2         1   37    0.0      0   \n",
       "4  3b7f77cc-dbc0      50000    1          2         1   57   -1.0      0   \n",
       "5  ceae2946-47e4      50000    1          1         2   37    0.0      0   \n",
       "6  d3b8ce26-9c89     500000    1          1         2   29    0.0      0   \n",
       "7  d6e1911b-54d0     100000    2          2         2   23    0.0     -1   \n",
       "8  8421d3b3-2b54     140000    2          3         1   28    0.0      0   \n",
       "9  62a2fd79-cd90      20000    1          3         2   35   -2.0     -2   \n",
       "\n",
       "   PAY_3  PAY_4  ...  BILL_AMT4  BILL_AMT5  BILL_AMT6  PAY_AMT1  PAY_AMT2  \\\n",
       "0     -1     -1  ...          0          0          0         0       689   \n",
       "1      0      0  ...       3272       3455       3261         0      1000   \n",
       "2      0      0  ...      14331      14948      15549      1518      1500   \n",
       "3      0      0  ...      28314      28959      29547      2000      2019   \n",
       "4     -1      0  ...      20940      19146      19131      2000     36681   \n",
       "5      0      0  ...      19394      19619      20024      2500      1815   \n",
       "6      0      0  ...     542653     483003     473944     55000     40000   \n",
       "7     -1      0  ...        221       -159        567       380       601   \n",
       "8      2      0  ...      12211      11793       3719      3329         0   \n",
       "9     -2     -2  ...          0      13007      13912         0         0   \n",
       "\n",
       "   PAY_AMT3  PAY_AMT4  PAY_AMT5  PAY_AMT6  default payment next month  \n",
       "0         0         0         0         0                           1  \n",
       "1      1000      1000         0      2000                           1  \n",
       "2      1000      1000      1000      5000                           0  \n",
       "3      1200      1100      1069      1000                           0  \n",
       "4     10000      9000       689       679                           0  \n",
       "5       657      1000      1000       800                           0  \n",
       "6     38000     20239     13750     13770                           0  \n",
       "7         0       581      1687      1542                           0  \n",
       "8       432      1000      1000      1000                           0  \n",
       "9         0     13007      1122         0                           0  \n",
       "\n",
       "[10 rows x 25 columns]"
      ]
     },
     "execution_count": 134,
     "metadata": {},
     "output_type": "execute_result"
    }
   ],
   "source": [
    "#  show the first 10 records in df\n",
    "df.head(10)"
   ]
  },
  {
   "cell_type": "code",
   "execution_count": 135,
   "id": "75bd1601",
   "metadata": {},
   "outputs": [
    {
     "data": {
      "text/html": [
       "<div>\n",
       "<style scoped>\n",
       "    .dataframe tbody tr th:only-of-type {\n",
       "        vertical-align: middle;\n",
       "    }\n",
       "\n",
       "    .dataframe tbody tr th {\n",
       "        vertical-align: top;\n",
       "    }\n",
       "\n",
       "    .dataframe thead th {\n",
       "        text-align: right;\n",
       "    }\n",
       "</style>\n",
       "<table border=\"1\" class=\"dataframe\">\n",
       "  <thead>\n",
       "    <tr style=\"text-align: right;\">\n",
       "      <th></th>\n",
       "      <th>ID</th>\n",
       "      <th>LIMIT_BAL</th>\n",
       "      <th>SEX</th>\n",
       "      <th>EDUCATION</th>\n",
       "      <th>MARRIAGE</th>\n",
       "      <th>AGE</th>\n",
       "      <th>PAY_1</th>\n",
       "      <th>PAY_2</th>\n",
       "      <th>PAY_3</th>\n",
       "      <th>PAY_4</th>\n",
       "      <th>...</th>\n",
       "      <th>BILL_AMT4</th>\n",
       "      <th>BILL_AMT5</th>\n",
       "      <th>BILL_AMT6</th>\n",
       "      <th>PAY_AMT1</th>\n",
       "      <th>PAY_AMT2</th>\n",
       "      <th>PAY_AMT3</th>\n",
       "      <th>PAY_AMT4</th>\n",
       "      <th>PAY_AMT5</th>\n",
       "      <th>PAY_AMT6</th>\n",
       "      <th>default payment next month</th>\n",
       "    </tr>\n",
       "  </thead>\n",
       "  <tbody>\n",
       "    <tr>\n",
       "      <th>29995</th>\n",
       "      <td>ecff42d0-bdc6</td>\n",
       "      <td>220000</td>\n",
       "      <td>1</td>\n",
       "      <td>3</td>\n",
       "      <td>1</td>\n",
       "      <td>39</td>\n",
       "      <td>0.0</td>\n",
       "      <td>0</td>\n",
       "      <td>0</td>\n",
       "      <td>0</td>\n",
       "      <td>...</td>\n",
       "      <td>88004</td>\n",
       "      <td>31237</td>\n",
       "      <td>15980</td>\n",
       "      <td>8500</td>\n",
       "      <td>20000</td>\n",
       "      <td>5003</td>\n",
       "      <td>3047</td>\n",
       "      <td>5000</td>\n",
       "      <td>1000</td>\n",
       "      <td>0</td>\n",
       "    </tr>\n",
       "    <tr>\n",
       "      <th>29996</th>\n",
       "      <td>99d1fa0e-222b</td>\n",
       "      <td>150000</td>\n",
       "      <td>1</td>\n",
       "      <td>3</td>\n",
       "      <td>2</td>\n",
       "      <td>43</td>\n",
       "      <td>-1.0</td>\n",
       "      <td>-1</td>\n",
       "      <td>-1</td>\n",
       "      <td>-1</td>\n",
       "      <td>...</td>\n",
       "      <td>8979</td>\n",
       "      <td>5190</td>\n",
       "      <td>0</td>\n",
       "      <td>1837</td>\n",
       "      <td>3526</td>\n",
       "      <td>8998</td>\n",
       "      <td>129</td>\n",
       "      <td>0</td>\n",
       "      <td>0</td>\n",
       "      <td>0</td>\n",
       "    </tr>\n",
       "    <tr>\n",
       "      <th>29997</th>\n",
       "      <td>95cdd3e7-4f24</td>\n",
       "      <td>30000</td>\n",
       "      <td>1</td>\n",
       "      <td>2</td>\n",
       "      <td>2</td>\n",
       "      <td>37</td>\n",
       "      <td>4.0</td>\n",
       "      <td>3</td>\n",
       "      <td>2</td>\n",
       "      <td>-1</td>\n",
       "      <td>...</td>\n",
       "      <td>20878</td>\n",
       "      <td>20582</td>\n",
       "      <td>19357</td>\n",
       "      <td>0</td>\n",
       "      <td>0</td>\n",
       "      <td>22000</td>\n",
       "      <td>4200</td>\n",
       "      <td>2000</td>\n",
       "      <td>3100</td>\n",
       "      <td>1</td>\n",
       "    </tr>\n",
       "    <tr>\n",
       "      <th>29998</th>\n",
       "      <td>00d03f02-04cd</td>\n",
       "      <td>80000</td>\n",
       "      <td>1</td>\n",
       "      <td>3</td>\n",
       "      <td>1</td>\n",
       "      <td>41</td>\n",
       "      <td>1.0</td>\n",
       "      <td>-1</td>\n",
       "      <td>0</td>\n",
       "      <td>0</td>\n",
       "      <td>...</td>\n",
       "      <td>52774</td>\n",
       "      <td>11855</td>\n",
       "      <td>48944</td>\n",
       "      <td>85900</td>\n",
       "      <td>3409</td>\n",
       "      <td>1178</td>\n",
       "      <td>1926</td>\n",
       "      <td>52964</td>\n",
       "      <td>1804</td>\n",
       "      <td>1</td>\n",
       "    </tr>\n",
       "    <tr>\n",
       "      <th>29999</th>\n",
       "      <td>15d69f9f-5ad3</td>\n",
       "      <td>50000</td>\n",
       "      <td>1</td>\n",
       "      <td>2</td>\n",
       "      <td>1</td>\n",
       "      <td>46</td>\n",
       "      <td>0.0</td>\n",
       "      <td>0</td>\n",
       "      <td>0</td>\n",
       "      <td>0</td>\n",
       "      <td>...</td>\n",
       "      <td>36535</td>\n",
       "      <td>32428</td>\n",
       "      <td>15313</td>\n",
       "      <td>2078</td>\n",
       "      <td>1800</td>\n",
       "      <td>1430</td>\n",
       "      <td>1000</td>\n",
       "      <td>1000</td>\n",
       "      <td>1000</td>\n",
       "      <td>1</td>\n",
       "    </tr>\n",
       "  </tbody>\n",
       "</table>\n",
       "<p>5 rows × 25 columns</p>\n",
       "</div>"
      ],
      "text/plain": [
       "                  ID  LIMIT_BAL  SEX  EDUCATION  MARRIAGE  AGE  PAY_1  PAY_2  \\\n",
       "29995  ecff42d0-bdc6     220000    1          3         1   39    0.0      0   \n",
       "29996  99d1fa0e-222b     150000    1          3         2   43   -1.0     -1   \n",
       "29997  95cdd3e7-4f24      30000    1          2         2   37    4.0      3   \n",
       "29998  00d03f02-04cd      80000    1          3         1   41    1.0     -1   \n",
       "29999  15d69f9f-5ad3      50000    1          2         1   46    0.0      0   \n",
       "\n",
       "       PAY_3  PAY_4  ...  BILL_AMT4  BILL_AMT5  BILL_AMT6  PAY_AMT1  PAY_AMT2  \\\n",
       "29995      0      0  ...      88004      31237      15980      8500     20000   \n",
       "29996     -1     -1  ...       8979       5190          0      1837      3526   \n",
       "29997      2     -1  ...      20878      20582      19357         0         0   \n",
       "29998      0      0  ...      52774      11855      48944     85900      3409   \n",
       "29999      0      0  ...      36535      32428      15313      2078      1800   \n",
       "\n",
       "       PAY_AMT3  PAY_AMT4  PAY_AMT5  PAY_AMT6  default payment next month  \n",
       "29995      5003      3047      5000      1000                           0  \n",
       "29996      8998       129         0         0                           0  \n",
       "29997     22000      4200      2000      3100                           1  \n",
       "29998      1178      1926     52964      1804                           1  \n",
       "29999      1430      1000      1000      1000                           1  \n",
       "\n",
       "[5 rows x 25 columns]"
      ]
     },
     "execution_count": 135,
     "metadata": {},
     "output_type": "execute_result"
    }
   ],
   "source": [
    "#  show the last 5 (default) records in df\n",
    "df.tail()"
   ]
  },
  {
   "cell_type": "code",
   "execution_count": 136,
   "id": "f133c1a6",
   "metadata": {},
   "outputs": [
    {
     "data": {
      "text/plain": [
       "29687"
      ]
     },
     "execution_count": 136,
     "metadata": {},
     "output_type": "execute_result"
    }
   ],
   "source": [
    "#  number of unique values in a series 'ID' (series = column)\n",
    "df['ID'].nunique()"
   ]
  },
  {
   "cell_type": "code",
   "execution_count": 137,
   "id": "497f1bee",
   "metadata": {},
   "outputs": [
    {
     "data": {
      "text/plain": [
       "(30000, 25)"
      ]
     },
     "execution_count": 137,
     "metadata": {},
     "output_type": "execute_result"
    }
   ],
   "source": [
    "#  dimensions of the df (rows, columns)\n",
    "df.shape"
   ]
  },
  {
   "cell_type": "code",
   "execution_count": 138,
   "id": "b6b5a598",
   "metadata": {},
   "outputs": [
    {
     "data": {
      "text/plain": [
       "ID\n",
       "7d5f3242-e1df    2\n",
       "1b22b0ab-aba3    2\n",
       "4cb27699-fe3f    2\n",
       "91c69d1a-8732    2\n",
       "bf23c70b-bf12    2\n",
       "                ..\n",
       "cb258690-8ea2    1\n",
       "f6f0307a-b75f    1\n",
       "47a4cdaa-aa20    1\n",
       "834b2cac-750e    1\n",
       "429d2c82-67ae    1\n",
       "Name: count, Length: 29687, dtype: int64"
      ]
     },
     "execution_count": 138,
     "metadata": {},
     "output_type": "execute_result"
    }
   ],
   "source": [
    "#  count the number of instances in df for each unique record in series 'ID'\n",
    "#  can be used to check for repeat records\n",
    "df['ID'].value_counts()"
   ]
  },
  {
   "cell_type": "code",
   "execution_count": 139,
   "id": "abbafb13",
   "metadata": {},
   "outputs": [
    {
     "data": {
      "text/plain": [
       "count\n",
       "1    29374\n",
       "2      313\n",
       "Name: count, dtype: int64"
      ]
     },
     "execution_count": 139,
     "metadata": {},
     "output_type": "execute_result"
    }
   ],
   "source": [
    "#  count how many records are unique (29374) and how many records have duplicates (313)\n",
    "(df['ID'].value_counts()).value_counts()"
   ]
  },
  {
   "cell_type": "markdown",
   "id": "3ad57dd7",
   "metadata": {},
   "source": [
    "Logical Masks aka Boolean Masks"
   ]
  },
  {
   "cell_type": "code",
   "execution_count": 140,
   "id": "3ceb9c3d",
   "metadata": {},
   "outputs": [],
   "source": [
    "id_counts = df['ID'].value_counts()"
   ]
  },
  {
   "cell_type": "code",
   "execution_count": 141,
   "id": "ec5de461",
   "metadata": {},
   "outputs": [],
   "source": [
    "#  this boolean mask labels records satisfying the defined condition as True, and False otherwise\n",
    "#  in this case, we're looking for duplicate IDs, so we're returning records with IDs that accur 2 times in the dataset\n",
    "#  this will be the coolean mask\n",
    "duplicates_mask = id_counts==2"
   ]
  },
  {
   "cell_type": "code",
   "execution_count": 142,
   "id": "9199c60a",
   "metadata": {},
   "outputs": [
    {
     "data": {
      "text/plain": [
       "count\n",
       "False    29374\n",
       "True       313\n",
       "Name: count, dtype: int64"
      ]
     },
     "execution_count": 142,
     "metadata": {},
     "output_type": "execute_result"
    }
   ],
   "source": [
    "#  29374 records do not satisfy the defined condition\n",
    "#  313 records do satisfy the defined condition\n",
    "duplicates_mask.value_counts()"
   ]
  },
  {
   "cell_type": "code",
   "execution_count": 143,
   "id": "ba79fd03",
   "metadata": {},
   "outputs": [],
   "source": [
    "#  store only the records satisfying the defined condition in a variable\n",
    "duplicate_ids = id_counts.index[duplicates_mask]"
   ]
  },
  {
   "cell_type": "code",
   "execution_count": 144,
   "id": "a29e7702",
   "metadata": {},
   "outputs": [],
   "source": [
    "#  convert the container from 'object' to a list\n",
    "duplicate_ids = list(duplicate_ids)"
   ]
  },
  {
   "cell_type": "code",
   "execution_count": 145,
   "id": "b855505c",
   "metadata": {},
   "outputs": [
    {
     "data": {
      "text/plain": [
       "['7d5f3242-e1df',\n",
       " '1b22b0ab-aba3',\n",
       " '4cb27699-fe3f',\n",
       " '91c69d1a-8732',\n",
       " 'bf23c70b-bf12']"
      ]
     },
     "execution_count": 145,
     "metadata": {},
     "output_type": "execute_result"
    }
   ],
   "source": [
    "duplicate_ids[:5]"
   ]
  },
  {
   "cell_type": "code",
   "execution_count": 146,
   "id": "ff1386a5",
   "metadata": {},
   "outputs": [],
   "source": [
    "#  use .isin() to identify records in the 'ID' series with the first 3 values in duplicate_ids\n",
    "bool_mask = df['ID'].isin(duplicate_ids[0:3])"
   ]
  },
  {
   "cell_type": "code",
   "execution_count": 147,
   "id": "82443e96",
   "metadata": {},
   "outputs": [
    {
     "data": {
      "text/html": [
       "<div>\n",
       "<style scoped>\n",
       "    .dataframe tbody tr th:only-of-type {\n",
       "        vertical-align: middle;\n",
       "    }\n",
       "\n",
       "    .dataframe tbody tr th {\n",
       "        vertical-align: top;\n",
       "    }\n",
       "\n",
       "    .dataframe thead th {\n",
       "        text-align: right;\n",
       "    }\n",
       "</style>\n",
       "<table border=\"1\" class=\"dataframe\">\n",
       "  <thead>\n",
       "    <tr style=\"text-align: right;\">\n",
       "      <th></th>\n",
       "      <th>ID</th>\n",
       "      <th>LIMIT_BAL</th>\n",
       "      <th>SEX</th>\n",
       "      <th>EDUCATION</th>\n",
       "      <th>MARRIAGE</th>\n",
       "      <th>AGE</th>\n",
       "      <th>PAY_1</th>\n",
       "      <th>PAY_2</th>\n",
       "      <th>PAY_3</th>\n",
       "      <th>PAY_4</th>\n",
       "      <th>...</th>\n",
       "      <th>BILL_AMT4</th>\n",
       "      <th>BILL_AMT5</th>\n",
       "      <th>BILL_AMT6</th>\n",
       "      <th>PAY_AMT1</th>\n",
       "      <th>PAY_AMT2</th>\n",
       "      <th>PAY_AMT3</th>\n",
       "      <th>PAY_AMT4</th>\n",
       "      <th>PAY_AMT5</th>\n",
       "      <th>PAY_AMT6</th>\n",
       "      <th>default payment next month</th>\n",
       "    </tr>\n",
       "  </thead>\n",
       "  <tbody>\n",
       "    <tr>\n",
       "      <th>5374</th>\n",
       "      <td>1b22b0ab-aba3</td>\n",
       "      <td>30000</td>\n",
       "      <td>2</td>\n",
       "      <td>1</td>\n",
       "      <td>2</td>\n",
       "      <td>30</td>\n",
       "      <td>0.0</td>\n",
       "      <td>0</td>\n",
       "      <td>0</td>\n",
       "      <td>0</td>\n",
       "      <td>...</td>\n",
       "      <td>32389</td>\n",
       "      <td>33142</td>\n",
       "      <td>33999</td>\n",
       "      <td>1600</td>\n",
       "      <td>2000</td>\n",
       "      <td>1500</td>\n",
       "      <td>1200</td>\n",
       "      <td>1330</td>\n",
       "      <td>2500</td>\n",
       "      <td>0</td>\n",
       "    </tr>\n",
       "    <tr>\n",
       "      <th>5474</th>\n",
       "      <td>1b22b0ab-aba3</td>\n",
       "      <td>0</td>\n",
       "      <td>0</td>\n",
       "      <td>0</td>\n",
       "      <td>0</td>\n",
       "      <td>0</td>\n",
       "      <td>0.0</td>\n",
       "      <td>0</td>\n",
       "      <td>0</td>\n",
       "      <td>0</td>\n",
       "      <td>...</td>\n",
       "      <td>0</td>\n",
       "      <td>0</td>\n",
       "      <td>0</td>\n",
       "      <td>0</td>\n",
       "      <td>0</td>\n",
       "      <td>0</td>\n",
       "      <td>0</td>\n",
       "      <td>0</td>\n",
       "      <td>0</td>\n",
       "      <td>0</td>\n",
       "    </tr>\n",
       "    <tr>\n",
       "      <th>5583</th>\n",
       "      <td>7d5f3242-e1df</td>\n",
       "      <td>60000</td>\n",
       "      <td>1</td>\n",
       "      <td>1</td>\n",
       "      <td>2</td>\n",
       "      <td>22</td>\n",
       "      <td>NaN</td>\n",
       "      <td>0</td>\n",
       "      <td>2</td>\n",
       "      <td>0</td>\n",
       "      <td>...</td>\n",
       "      <td>29137</td>\n",
       "      <td>29900</td>\n",
       "      <td>30069</td>\n",
       "      <td>4400</td>\n",
       "      <td>304</td>\n",
       "      <td>1100</td>\n",
       "      <td>1216</td>\n",
       "      <td>1300</td>\n",
       "      <td>589</td>\n",
       "      <td>0</td>\n",
       "    </tr>\n",
       "    <tr>\n",
       "      <th>5683</th>\n",
       "      <td>7d5f3242-e1df</td>\n",
       "      <td>0</td>\n",
       "      <td>0</td>\n",
       "      <td>0</td>\n",
       "      <td>0</td>\n",
       "      <td>0</td>\n",
       "      <td>0.0</td>\n",
       "      <td>0</td>\n",
       "      <td>0</td>\n",
       "      <td>0</td>\n",
       "      <td>...</td>\n",
       "      <td>0</td>\n",
       "      <td>0</td>\n",
       "      <td>0</td>\n",
       "      <td>0</td>\n",
       "      <td>0</td>\n",
       "      <td>0</td>\n",
       "      <td>0</td>\n",
       "      <td>0</td>\n",
       "      <td>0</td>\n",
       "      <td>0</td>\n",
       "    </tr>\n",
       "    <tr>\n",
       "      <th>11848</th>\n",
       "      <td>4cb27699-fe3f</td>\n",
       "      <td>60000</td>\n",
       "      <td>2</td>\n",
       "      <td>6</td>\n",
       "      <td>1</td>\n",
       "      <td>39</td>\n",
       "      <td>-1.0</td>\n",
       "      <td>-1</td>\n",
       "      <td>-1</td>\n",
       "      <td>-1</td>\n",
       "      <td>...</td>\n",
       "      <td>2248</td>\n",
       "      <td>0</td>\n",
       "      <td>449</td>\n",
       "      <td>1419</td>\n",
       "      <td>3541</td>\n",
       "      <td>2248</td>\n",
       "      <td>0</td>\n",
       "      <td>449</td>\n",
       "      <td>0</td>\n",
       "      <td>0</td>\n",
       "    </tr>\n",
       "    <tr>\n",
       "      <th>11948</th>\n",
       "      <td>4cb27699-fe3f</td>\n",
       "      <td>0</td>\n",
       "      <td>0</td>\n",
       "      <td>0</td>\n",
       "      <td>0</td>\n",
       "      <td>0</td>\n",
       "      <td>0.0</td>\n",
       "      <td>0</td>\n",
       "      <td>0</td>\n",
       "      <td>0</td>\n",
       "      <td>...</td>\n",
       "      <td>0</td>\n",
       "      <td>0</td>\n",
       "      <td>0</td>\n",
       "      <td>0</td>\n",
       "      <td>0</td>\n",
       "      <td>0</td>\n",
       "      <td>0</td>\n",
       "      <td>0</td>\n",
       "      <td>0</td>\n",
       "      <td>0</td>\n",
       "    </tr>\n",
       "  </tbody>\n",
       "</table>\n",
       "<p>6 rows × 25 columns</p>\n",
       "</div>"
      ],
      "text/plain": [
       "                  ID  LIMIT_BAL  SEX  EDUCATION  MARRIAGE  AGE  PAY_1  PAY_2  \\\n",
       "5374   1b22b0ab-aba3      30000    2          1         2   30    0.0      0   \n",
       "5474   1b22b0ab-aba3          0    0          0         0    0    0.0      0   \n",
       "5583   7d5f3242-e1df      60000    1          1         2   22    NaN      0   \n",
       "5683   7d5f3242-e1df          0    0          0         0    0    0.0      0   \n",
       "11848  4cb27699-fe3f      60000    2          6         1   39   -1.0     -1   \n",
       "11948  4cb27699-fe3f          0    0          0         0    0    0.0      0   \n",
       "\n",
       "       PAY_3  PAY_4  ...  BILL_AMT4  BILL_AMT5  BILL_AMT6  PAY_AMT1  PAY_AMT2  \\\n",
       "5374       0      0  ...      32389      33142      33999      1600      2000   \n",
       "5474       0      0  ...          0          0          0         0         0   \n",
       "5583       2      0  ...      29137      29900      30069      4400       304   \n",
       "5683       0      0  ...          0          0          0         0         0   \n",
       "11848     -1     -1  ...       2248          0        449      1419      3541   \n",
       "11948      0      0  ...          0          0          0         0         0   \n",
       "\n",
       "       PAY_AMT3  PAY_AMT4  PAY_AMT5  PAY_AMT6  default payment next month  \n",
       "5374       1500      1200      1330      2500                           0  \n",
       "5474          0         0         0         0                           0  \n",
       "5583       1100      1216      1300       589                           0  \n",
       "5683          0         0         0         0                           0  \n",
       "11848      2248         0       449         0                           0  \n",
       "11948         0         0         0         0                           0  \n",
       "\n",
       "[6 rows x 25 columns]"
      ]
     },
     "execution_count": 147,
     "metadata": {},
     "output_type": "execute_result"
    }
   ],
   "source": [
    "#  apply the boolean mask to df with .loc, indexing the selected rows and all columns\n",
    "df.loc[bool_mask,:]"
   ]
  },
  {
   "cell_type": "code",
   "execution_count": 148,
   "id": "fde10210",
   "metadata": {},
   "outputs": [],
   "source": [
    "#  notice that there are multiple rows with '0' for all column values.  These rows are duplicate records (recall the duplicate_ids boolean mask), so we want to clean up the data by removing these entries from the data set"
   ]
  },
  {
   "cell_type": "code",
   "execution_count": 149,
   "id": "8a274864",
   "metadata": {},
   "outputs": [
    {
     "name": "stdout",
     "output_type": "stream",
     "text": [
      "          ID  LIMIT_BAL    SEX  EDUCATION  MARRIAGE    AGE  PAY_1  PAY_2  \\\n",
      "0      False      False  False      False     False  False  False  False   \n",
      "1      False      False  False      False     False  False  False  False   \n",
      "2      False      False  False      False     False  False   True   True   \n",
      "3      False      False  False      False     False  False   True   True   \n",
      "4      False      False  False      False     False  False  False   True   \n",
      "...      ...        ...    ...        ...       ...    ...    ...    ...   \n",
      "29995  False      False  False      False     False  False   True   True   \n",
      "29996  False      False  False      False     False  False  False  False   \n",
      "29997  False      False  False      False     False  False  False  False   \n",
      "29998  False      False  False      False     False  False  False  False   \n",
      "29999  False      False  False      False     False  False   True   True   \n",
      "\n",
      "       PAY_3  PAY_4  ...  BILL_AMT4  BILL_AMT5  BILL_AMT6  PAY_AMT1  PAY_AMT2  \\\n",
      "0      False  False  ...       True       True       True      True     False   \n",
      "1       True   True  ...      False      False      False      True     False   \n",
      "2       True   True  ...      False      False      False     False     False   \n",
      "3       True   True  ...      False      False      False     False     False   \n",
      "4      False   True  ...      False      False      False     False     False   \n",
      "...      ...    ...  ...        ...        ...        ...       ...       ...   \n",
      "29995   True   True  ...      False      False      False     False     False   \n",
      "29996  False  False  ...      False      False       True     False     False   \n",
      "29997  False  False  ...      False      False      False      True      True   \n",
      "29998   True   True  ...      False      False      False     False     False   \n",
      "29999   True   True  ...      False      False      False     False     False   \n",
      "\n",
      "       PAY_AMT3  PAY_AMT4  PAY_AMT5  PAY_AMT6  default payment next month  \n",
      "0          True      True      True      True                       False  \n",
      "1         False     False      True     False                       False  \n",
      "2         False     False     False     False                        True  \n",
      "3         False     False     False     False                        True  \n",
      "4         False     False     False     False                        True  \n",
      "...         ...       ...       ...       ...                         ...  \n",
      "29995     False     False     False     False                        True  \n",
      "29996     False     False      True      True                        True  \n",
      "29997     False     False     False     False                       False  \n",
      "29998     False     False     False     False                       False  \n",
      "29999     False     False     False     False                       False  \n",
      "\n",
      "[30000 rows x 25 columns]\n"
     ]
    }
   ],
   "source": [
    "#  create an all-zeros boolean matrix the same dimensions as df\n",
    "df_zeros_mask = df==0\n",
    "print(df_zeros_mask)"
   ]
  },
  {
   "cell_type": "code",
   "execution_count": 150,
   "id": "12c8604f",
   "metadata": {},
   "outputs": [
    {
     "data": {
      "text/plain": [
       "ID                            False\n",
       "LIMIT_BAL                      True\n",
       "SEX                            True\n",
       "EDUCATION                      True\n",
       "MARRIAGE                       True\n",
       "AGE                            True\n",
       "PAY_1                          True\n",
       "PAY_2                          True\n",
       "PAY_3                          True\n",
       "PAY_4                          True\n",
       "PAY_5                          True\n",
       "PAY_6                          True\n",
       "BILL_AMT1                      True\n",
       "BILL_AMT2                      True\n",
       "BILL_AMT3                      True\n",
       "BILL_AMT4                      True\n",
       "BILL_AMT5                      True\n",
       "BILL_AMT6                      True\n",
       "PAY_AMT1                       True\n",
       "PAY_AMT2                       True\n",
       "PAY_AMT3                       True\n",
       "PAY_AMT4                       True\n",
       "PAY_AMT5                       True\n",
       "PAY_AMT6                       True\n",
       "default payment next month     True\n",
       "Name: 5474, dtype: bool"
      ]
     },
     "execution_count": 150,
     "metadata": {},
     "output_type": "execute_result"
    }
   ],
   "source": [
    "#  take index 5474 from df_zeros_mask.  It shows all Trues for columns 1-24 (column 0 is the index value).  The boolean mask we applied to achieve this result applies True for any cell value 0, and False otherwise.  This row was all zeros (what we're looking for), so the entire row was True in the mask generated.\n",
    "#  .iloc[<int>] is an index locator, which returns the record located at the indicated index\n",
    "df_zeros_mask.iloc[5474]"
   ]
  },
  {
   "cell_type": "code",
   "execution_count": 151,
   "id": "65080779",
   "metadata": {},
   "outputs": [
    {
     "name": "stdout",
     "output_type": "stream",
     "text": [
      "0        False\n",
      "1        False\n",
      "2        False\n",
      "3        False\n",
      "4        False\n",
      "         ...  \n",
      "29995    False\n",
      "29996    False\n",
      "29997    False\n",
      "29998    False\n",
      "29999    False\n",
      "Length: 30000, dtype: bool\n"
     ]
    }
   ],
   "source": [
    "#  create an aggregate boolean for all rows and columns 1-24 (omit column 0) with .all(), passing in the axis=1 parameter to indicate that we are checking along the columns\n",
    "feature_zero_mask = df_zeros_mask.iloc[:,1:].all(axis=1)\n",
    "print(feature_zero_mask)"
   ]
  },
  {
   "cell_type": "code",
   "execution_count": 152,
   "id": "89fedca0",
   "metadata": {},
   "outputs": [
    {
     "data": {
      "text/plain": [
       "315"
      ]
     },
     "execution_count": 152,
     "metadata": {},
     "output_type": "execute_result"
    }
   ],
   "source": [
    "#  remember that the zeros boolean mask tagged cells with 0 as True and all others False.  Knowing that True=1 and False=0, we sum the aggregate boolean of each row, and the result is the number of rows (i.e. records) that do not have data (zeros in all columns)\n",
    "sum(feature_zero_mask)"
   ]
  },
  {
   "cell_type": "code",
   "execution_count": 153,
   "id": "9f45dfd0",
   "metadata": {},
   "outputs": [
    {
     "name": "stdout",
     "output_type": "stream",
     "text": [
      "(29685, 25)\n"
     ]
    }
   ],
   "source": [
    "#  remove these recoreds from df, but assign it as a copy in a different variable to not modify the otiginal df\n",
    "df_clean_0 = df.loc[-feature_zero_mask, :].copy()\n",
    "print(df_clean_0.shape)"
   ]
  },
  {
   "cell_type": "code",
   "execution_count": 154,
   "id": "39b72e98",
   "metadata": {},
   "outputs": [
    {
     "data": {
      "text/plain": [
       "29685"
      ]
     },
     "execution_count": 154,
     "metadata": {},
     "output_type": "execute_result"
    }
   ],
   "source": [
    "#  check how many unique values there are in the 'ID' series in df_clean_0\n",
    "df_clean_0['ID'].nunique()"
   ]
  },
  {
   "cell_type": "code",
   "execution_count": 155,
   "id": "95be44eb",
   "metadata": {},
   "outputs": [
    {
     "data": {
      "text/plain": [
       "count\n",
       "1    29685\n",
       "Name: count, dtype: int64"
      ]
     },
     "execution_count": 155,
     "metadata": {},
     "output_type": "execute_result"
    }
   ],
   "source": [
    "#  check how many unique values there are in the 'ID' series in df_clean_0\n",
    "id_counts_clean_0 = df_clean_0['ID'].value_counts()\n",
    "id_counts_clean_0.value_counts()\n"
   ]
  },
  {
   "cell_type": "markdown",
   "id": "64330291",
   "metadata": {},
   "source": [
    "Data Exploration and Cleaning"
   ]
  },
  {
   "cell_type": "code",
   "execution_count": 156,
   "id": "0ab29be1",
   "metadata": {},
   "outputs": [
    {
     "name": "stdout",
     "output_type": "stream",
     "text": [
      "<class 'pandas.core.frame.DataFrame'>\n",
      "Index: 29685 entries, 0 to 29999\n",
      "Data columns (total 25 columns):\n",
      " #   Column                      Non-Null Count  Dtype  \n",
      "---  ------                      --------------  -----  \n",
      " 0   ID                          29685 non-null  object \n",
      " 1   LIMIT_BAL                   29685 non-null  int64  \n",
      " 2   SEX                         29685 non-null  int64  \n",
      " 3   EDUCATION                   29685 non-null  int64  \n",
      " 4   MARRIAGE                    29685 non-null  int64  \n",
      " 5   AGE                         29685 non-null  int64  \n",
      " 6   PAY_1                       26664 non-null  float64\n",
      " 7   PAY_2                       29685 non-null  int64  \n",
      " 8   PAY_3                       29685 non-null  int64  \n",
      " 9   PAY_4                       29685 non-null  int64  \n",
      " 10  PAY_5                       29685 non-null  int64  \n",
      " 11  PAY_6                       29685 non-null  int64  \n",
      " 12  BILL_AMT1                   29685 non-null  int64  \n",
      " 13  BILL_AMT2                   29685 non-null  int64  \n",
      " 14  BILL_AMT3                   29685 non-null  int64  \n",
      " 15  BILL_AMT4                   29685 non-null  int64  \n",
      " 16  BILL_AMT5                   29685 non-null  int64  \n",
      " 17  BILL_AMT6                   29685 non-null  int64  \n",
      " 18  PAY_AMT1                    29685 non-null  int64  \n",
      " 19  PAY_AMT2                    29685 non-null  int64  \n",
      " 20  PAY_AMT3                    29685 non-null  int64  \n",
      " 21  PAY_AMT4                    29685 non-null  int64  \n",
      " 22  PAY_AMT5                    29685 non-null  int64  \n",
      " 23  PAY_AMT6                    29685 non-null  int64  \n",
      " 24  default payment next month  29685 non-null  int64  \n",
      "dtypes: float64(1), int64(23), object(1)\n",
      "memory usage: 5.9+ MB\n"
     ]
    }
   ],
   "source": [
    "#  get information about the data table, including column names and data types\n",
    "#  regarding data explotaion, we see the count for each column's non-null values\n",
    "#  notice that 'PAY_1' has less non-null values that all the other columns, indicating that there is missing data in that column\n",
    "df_clean_0.info()"
   ]
  },
  {
   "cell_type": "code",
   "execution_count": 157,
   "id": "2a295c8f",
   "metadata": {},
   "outputs": [
    {
     "data": {
      "text/plain": [
       "PAY_1\n",
       " 0.0    13087\n",
       "-1.0     5047\n",
       " 1.0     3261\n",
       "-2.0     2476\n",
       " 2.0     2378\n",
       " 3.0      292\n",
       " 4.0       63\n",
       " 5.0       23\n",
       " 8.0       17\n",
       " 6.0       11\n",
       " 7.0        9\n",
       "Name: count, dtype: int64"
      ]
     },
     "execution_count": 157,
     "metadata": {},
     "output_type": "execute_result"
    }
   ],
   "source": [
    "#  series \"PAY_1\" is the status of the most recent month's bill using values -1,1,2,3,... (defined in the data dictionary).  Follow up with data owner to find out why there are undefined tags in this column\n",
    "df_clean_0['PAY_1'].value_counts()"
   ]
  },
  {
   "cell_type": "code",
   "execution_count": 158,
   "id": "5f17a3d6",
   "metadata": {},
   "outputs": [
    {
     "name": "stdout",
     "output_type": "stream",
     "text": [
      "3021\n"
     ]
    }
   ],
   "source": [
    "#  we see that there are status values of 0 and -2, which are not defined in the data dictionary.  \n",
    "#  There are also missing values (null values) in 'PAY_1', so build a boolean mask with .isnull()\n",
    "pay_1_mask = df_clean_0['PAY_1'].isnull()\n",
    "print(sum(pay_1_mask))"
   ]
  },
  {
   "cell_type": "code",
   "execution_count": 159,
   "id": "87291c5c",
   "metadata": {},
   "outputs": [
    {
     "name": "stdout",
     "output_type": "stream",
     "text": [
      "(26664, 25)\n"
     ]
    }
   ],
   "source": [
    "#  remove the values from df_clean_0 and save this newly cleaned dataframe in a new variable as a copy with .copy()\n",
    "df_clean_1 = df_clean_0.loc[-pay_1_mask, :].copy()\n",
    "print(df_clean_1.shape)"
   ]
  },
  {
   "cell_type": "code",
   "execution_count": 160,
   "id": "cb9a9b17",
   "metadata": {},
   "outputs": [],
   "source": [
    "#  we also see that 'PAY_1' has a different datatype to other columns with similar data\n",
    "#  recast the 'PAY_1' to int64 to match the rest of the data\n",
    "df_clean_1['PAY_1'] = df_clean_1['PAY_1'].astype('int64')"
   ]
  },
  {
   "cell_type": "code",
   "execution_count": 161,
   "id": "5be2d9b6",
   "metadata": {},
   "outputs": [
    {
     "name": "stdout",
     "output_type": "stream",
     "text": [
      "<class 'pandas.core.frame.DataFrame'>\n",
      "Index: 26664 entries, 0 to 29999\n",
      "Data columns (total 25 columns):\n",
      " #   Column                      Non-Null Count  Dtype \n",
      "---  ------                      --------------  ----- \n",
      " 0   ID                          26664 non-null  object\n",
      " 1   LIMIT_BAL                   26664 non-null  int64 \n",
      " 2   SEX                         26664 non-null  int64 \n",
      " 3   EDUCATION                   26664 non-null  int64 \n",
      " 4   MARRIAGE                    26664 non-null  int64 \n",
      " 5   AGE                         26664 non-null  int64 \n",
      " 6   PAY_1                       26664 non-null  int64 \n",
      " 7   PAY_2                       26664 non-null  int64 \n",
      " 8   PAY_3                       26664 non-null  int64 \n",
      " 9   PAY_4                       26664 non-null  int64 \n",
      " 10  PAY_5                       26664 non-null  int64 \n",
      " 11  PAY_6                       26664 non-null  int64 \n",
      " 12  BILL_AMT1                   26664 non-null  int64 \n",
      " 13  BILL_AMT2                   26664 non-null  int64 \n",
      " 14  BILL_AMT3                   26664 non-null  int64 \n",
      " 15  BILL_AMT4                   26664 non-null  int64 \n",
      " 16  BILL_AMT5                   26664 non-null  int64 \n",
      " 17  BILL_AMT6                   26664 non-null  int64 \n",
      " 18  PAY_AMT1                    26664 non-null  int64 \n",
      " 19  PAY_AMT2                    26664 non-null  int64 \n",
      " 20  PAY_AMT3                    26664 non-null  int64 \n",
      " 21  PAY_AMT4                    26664 non-null  int64 \n",
      " 22  PAY_AMT5                    26664 non-null  int64 \n",
      " 23  PAY_AMT6                    26664 non-null  int64 \n",
      " 24  default payment next month  26664 non-null  int64 \n",
      "dtypes: int64(24), object(1)\n",
      "memory usage: 5.3+ MB\n"
     ]
    }
   ],
   "source": [
    "df_clean_1.info()"
   ]
  },
  {
   "cell_type": "markdown",
   "id": "01c73cf6",
   "metadata": {},
   "source": [
    "Exploring Data Features - some features may be categorical, like the ones explored below.  These categorical features are especially useful when preparing data for machine learning.  Each category is comprised of 'levels' that are each assigned a numeric value that maps to qualitative category, which are called 'ordinal features'."
   ]
  },
  {
   "cell_type": "code",
   "execution_count": 172,
   "id": "8add08f2",
   "metadata": {},
   "outputs": [],
   "source": [
    "import matplotlib as mpl\n",
    "import matplotlib.pyplot as plt\n",
    "\n",
    "# automatically render plotting\n",
    "%matplotlib inline\n",
    "\n",
    "# high resolution figures\n",
    "mpl.rcParams['figure.dpi']=100  # dpi"
   ]
  },
  {
   "cell_type": "code",
   "execution_count": 163,
   "id": "efdcef93",
   "metadata": {},
   "outputs": [
    {
     "data": {
      "text/plain": [
       "array([[<Axes: title={'center': 'LIMIT_BAL'}>,\n",
       "        <Axes: title={'center': 'AGE'}>]], dtype=object)"
      ]
     },
     "execution_count": 163,
     "metadata": {},
     "output_type": "execute_result"
    },
    {
     "data": {
      "image/png": "[encoded data removed]",
      "text/plain": [
       "<Figure size 640x480 with 2 Axes>"
      ]
     },
     "metadata": {},
     "output_type": "display_data"
    }
   ],
   "source": [
    "#  .hist() - quick and approximate histogram view of all the data\n",
    "df_clean_1[['LIMIT_BAL', 'AGE']].hist()"
   ]
  },
  {
   "cell_type": "code",
   "execution_count": 164,
   "id": "64feac2d",
   "metadata": {},
   "outputs": [
    {
     "data": {
      "text/html": [
       "<div>\n",
       "<style scoped>\n",
       "    .dataframe tbody tr th:only-of-type {\n",
       "        vertical-align: middle;\n",
       "    }\n",
       "\n",
       "    .dataframe tbody tr th {\n",
       "        vertical-align: top;\n",
       "    }\n",
       "\n",
       "    .dataframe thead th {\n",
       "        text-align: right;\n",
       "    }\n",
       "</style>\n",
       "<table border=\"1\" class=\"dataframe\">\n",
       "  <thead>\n",
       "    <tr style=\"text-align: right;\">\n",
       "      <th></th>\n",
       "      <th>LIMIT_BAL</th>\n",
       "      <th>AGE</th>\n",
       "    </tr>\n",
       "  </thead>\n",
       "  <tbody>\n",
       "    <tr>\n",
       "      <th>count</th>\n",
       "      <td>26664.000000</td>\n",
       "      <td>26664.000000</td>\n",
       "    </tr>\n",
       "    <tr>\n",
       "      <th>mean</th>\n",
       "      <td>167919.054905</td>\n",
       "      <td>35.505213</td>\n",
       "    </tr>\n",
       "    <tr>\n",
       "      <th>std</th>\n",
       "      <td>129839.453081</td>\n",
       "      <td>9.227442</td>\n",
       "    </tr>\n",
       "    <tr>\n",
       "      <th>min</th>\n",
       "      <td>10000.000000</td>\n",
       "      <td>21.000000</td>\n",
       "    </tr>\n",
       "    <tr>\n",
       "      <th>25%</th>\n",
       "      <td>50000.000000</td>\n",
       "      <td>28.000000</td>\n",
       "    </tr>\n",
       "    <tr>\n",
       "      <th>50%</th>\n",
       "      <td>140000.000000</td>\n",
       "      <td>34.000000</td>\n",
       "    </tr>\n",
       "    <tr>\n",
       "      <th>75%</th>\n",
       "      <td>240000.000000</td>\n",
       "      <td>41.000000</td>\n",
       "    </tr>\n",
       "    <tr>\n",
       "      <th>max</th>\n",
       "      <td>800000.000000</td>\n",
       "      <td>79.000000</td>\n",
       "    </tr>\n",
       "  </tbody>\n",
       "</table>\n",
       "</div>"
      ],
      "text/plain": [
       "           LIMIT_BAL           AGE\n",
       "count   26664.000000  26664.000000\n",
       "mean   167919.054905     35.505213\n",
       "std    129839.453081      9.227442\n",
       "min     10000.000000     21.000000\n",
       "25%     50000.000000     28.000000\n",
       "50%    140000.000000     34.000000\n",
       "75%    240000.000000     41.000000\n",
       "max    800000.000000     79.000000"
      ]
     },
     "execution_count": 164,
     "metadata": {},
     "output_type": "execute_result"
    }
   ],
   "source": [
    "#  .describe() - summary statistics\n",
    "df_clean_1[['LIMIT_BAL', 'AGE']].describe()"
   ]
  },
  {
   "cell_type": "code",
   "execution_count": 165,
   "id": "52033ac4",
   "metadata": {},
   "outputs": [
    {
     "data": {
      "text/plain": [
       "EDUCATION\n",
       "2    12458\n",
       "1     9412\n",
       "3     4380\n",
       "5      245\n",
       "4      115\n",
       "6       43\n",
       "0       11\n",
       "Name: count, dtype: int64"
      ]
     },
     "execution_count": 165,
     "metadata": {},
     "output_type": "execute_result"
    }
   ],
   "source": [
    "#  .value_counts() - count the number of times a value occurs for a feature\n",
    "df_clean_1['EDUCATION'].value_counts()"
   ]
  },
  {
   "cell_type": "code",
   "execution_count": null,
   "id": "0c2a1ef2",
   "metadata": {},
   "outputs": [
    {
     "name": "stderr",
     "output_type": "stream",
     "text": [
      "C:\\Users\\dflor\\AppData\\Local\\Temp\\ipykernel_6692\\4261544782.py:2: FutureWarning: A value is trying to be set on a copy of a DataFrame or Series through chained assignment using an inplace method.\n",
      "The behavior will change in pandas 3.0. This inplace method will never work because the intermediate object on which we are setting values always behaves as a copy.\n",
      "\n",
      "For example, when doing 'df[col].method(value, inplace=True)', try using 'df.method({col: value}, inplace=True)' or df[col] = df[col].method(value) instead, to perform the operation inplace on the original object.\n",
      "\n",
      "\n",
      "  df_clean_1['EDUCATION'].replace(to_replace=[0, 5, 6], value=4, inplace=True)\n"
     ]
    },
    {
     "data": {
      "text/plain": [
       "EDUCATION\n",
       "2    12458\n",
       "1     9412\n",
       "3     4380\n",
       "4      414\n",
       "Name: count, dtype: int64"
      ]
     },
     "execution_count": 168,
     "metadata": {},
     "output_type": "execute_result"
    }
   ],
   "source": [
    "#  data dictionary does not define 0, 5, 6 for education, so group them in category 4 ('Other')\n",
    "df_clean_1['EDUCATION'].replace(to_replace=[0, 5, 6], value=4, inplace=True)\n",
    "df_clean_1['EDUCATION'].value_counts()"
   ]
  },
  {
   "cell_type": "code",
   "execution_count": 170,
   "id": "c9aae37b",
   "metadata": {},
   "outputs": [
    {
     "data": {
      "text/plain": [
       "MARRIAGE\n",
       "2    14158\n",
       "1    12172\n",
       "3      286\n",
       "0       48\n",
       "Name: count, dtype: int64"
      ]
     },
     "execution_count": 170,
     "metadata": {},
     "output_type": "execute_result"
    }
   ],
   "source": [
    "df_clean_1['MARRIAGE'].value_counts()"
   ]
  },
  {
   "cell_type": "code",
   "execution_count": 171,
   "id": "d8aa05f1",
   "metadata": {},
   "outputs": [
    {
     "name": "stderr",
     "output_type": "stream",
     "text": [
      "C:\\Users\\dflor\\AppData\\Local\\Temp\\ipykernel_6692\\3798131752.py:2: FutureWarning: A value is trying to be set on a copy of a DataFrame or Series through chained assignment using an inplace method.\n",
      "The behavior will change in pandas 3.0. This inplace method will never work because the intermediate object on which we are setting values always behaves as a copy.\n",
      "\n",
      "For example, when doing 'df[col].method(value, inplace=True)', try using 'df.method({col: value}, inplace=True)' or df[col] = df[col].method(value) instead, to perform the operation inplace on the original object.\n",
      "\n",
      "\n",
      "  df_clean_1['MARRIAGE'].replace(to_replace=0, value=3, inplace=True)\n"
     ]
    },
    {
     "data": {
      "text/plain": [
       "MARRIAGE\n",
       "2    14158\n",
       "1    12172\n",
       "3      334\n",
       "Name: count, dtype: int64"
      ]
     },
     "execution_count": 171,
     "metadata": {},
     "output_type": "execute_result"
    }
   ],
   "source": [
    "#  data dictionary does not define 0 for marriage, so group in category 3 ('Other')\n",
    "df_clean_1['MARRIAGE'].replace(to_replace=0, value=3, inplace=True)\n",
    "df_clean_1['MARRIAGE'].value_counts()"
   ]
  },
  {
   "cell_type": "markdown",
   "id": "5a025037",
   "metadata": {},
   "source": [
    "Categorical Features"
   ]
  },
  {
   "cell_type": "code",
   "execution_count": 180,
   "id": "57f35f71",
   "metadata": {},
   "outputs": [
    {
     "name": "stdout",
     "output_type": "stream",
     "text": [
      "           default payment next month\n",
      "EDUCATION                            \n",
      "1                            0.193901\n",
      "2                            0.235913\n",
      "3                            0.255479\n",
      "4                            0.074879\n"
     ]
    }
   ],
   "source": [
    "education_default = df_clean_1.groupby('EDUCATION').agg({'default payment next month': 'mean'})\n",
    "print(education_default)"
   ]
  },
  {
   "cell_type": "code",
   "execution_count": 191,
   "id": "8247f36d",
   "metadata": {},
   "outputs": [
    {
     "data": {
      "image/png": "[encoded data removed]",
      "text/plain": [
       "<Figure size 640x480 with 1 Axes>"
      ]
     },
     "metadata": {},
     "output_type": "display_data"
    }
   ],
   "source": [
    "fig, ax = plt.subplots()\n",
    "\n",
    "education_default.plot(kind='bar', legend=False, ax=ax)\n",
    "ax.set_xlabel('Education Level: Ordinance Encoding')\n",
    "ax.set_ylabel('Default Rate')\n",
    "plt.show()"
   ]
  },
  {
   "cell_type": "markdown",
   "id": "3cf17251",
   "metadata": {},
   "source": [
    "One-Hot Ordinal Encoding (OHE)\n",
    "\n",
    "Sometimes data does not have a linear relationship, so we can implement more complex algorithms like 'decision tree' and 'random forest' for  non-numeric categories.  Alternatively, we can use a logistic regression if we want a numeric approach and can leverage 'one-hot encoding' (OHE) if we want to process categorical data without ordinal encoding.\n",
    "\n",
    "We're going to use the existing 'EDUCATION' data to extract the different education levels using OHE through pandas."
   ]
  },
  {
   "cell_type": "code",
   "execution_count": null,
   "id": "0794f38a",
   "metadata": {},
   "outputs": [
    {
     "name": "stdout",
     "output_type": "stream",
     "text": [
      "   EDUCATION EDUCATION_CAT\n",
      "0          2          none\n",
      "1          2          none\n",
      "2          2          none\n",
      "3          2          none\n",
      "4          2          none\n",
      "5          1          none\n",
      "6          1          none\n",
      "7          2          none\n",
      "8          3          none\n",
      "9          3          none\n"
     ]
    }
   ],
   "source": [
    "#  first we assign the known ordinal categories a label  (optional step)\n",
    "df_clean_1['EDUCATION_CAT'] = 'none'  # create a new column where the category label is recorded\n",
    "print(df_clean_1[['EDUCATION', 'EDUCATION_CAT']].head(10))"
   ]
  },
  {
   "cell_type": "code",
   "execution_count": 200,
   "id": "e5c7e2de",
   "metadata": {},
   "outputs": [],
   "source": [
    "#  create a dictionary that defines the categorical mapping\n",
    "cat_map = {\n",
    "    1: 'grad_school',\n",
    "    2: 'university',\n",
    "    3: 'high school',\n",
    "    4: 'other'\n",
    "}"
   ]
  },
  {
   "cell_type": "code",
   "execution_count": 201,
   "id": "1720368b",
   "metadata": {},
   "outputs": [],
   "source": [
    "#  map the EDUCATION column to 'cat_map' to assign labels\n",
    "df_clean_1['EDUCATION_CAT']=df_clean_1['EDUCATION'].map(cat_map)"
   ]
  },
  {
   "cell_type": "code",
   "execution_count": 202,
   "id": "5fb54b5e",
   "metadata": {},
   "outputs": [
    {
     "name": "stdout",
     "output_type": "stream",
     "text": [
      "   EDUCATION EDUCATION_CAT\n",
      "0          2    university\n",
      "1          2    university\n",
      "2          2    university\n",
      "3          2    university\n",
      "4          2    university\n",
      "5          1   grad_school\n",
      "6          1   grad_school\n",
      "7          2    university\n",
      "8          3   high school\n",
      "9          3   high school\n"
     ]
    }
   ],
   "source": [
    "print(df_clean_1[['EDUCATION', 'EDUCATION_CAT']].head(10))"
   ]
  },
  {
   "cell_type": "code",
   "execution_count": null,
   "id": "6cf7c094",
   "metadata": {},
   "outputs": [],
   "source": []
  }
 ],
 "metadata": {
  "kernelspec": {
   "display_name": "venv",
   "language": "python",
   "name": "python3"
  },
  "language_info": {
   "codemirror_mode": {
    "name": "ipython",
    "version": 3
   },
   "file_extension": ".py",
   "mimetype": "text/x-python",
   "name": "python",
   "nbconvert_exporter": "python",
   "pygments_lexer": "ipython3",
   "version": "3.12.10"
  }
 },
 "nbformat": 4,
 "nbformat_minor": 5
}
